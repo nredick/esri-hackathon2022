{
 "cells": [
  {
   "cell_type": "code",
   "execution_count": null,
   "id": "b6155fdb",
   "metadata": {},
   "outputs": [],
   "source": [
    "# Import google_streetview for the api module\n",
    "import google_streetview.api\n",
    "\n",
    "# Define parameters for street view api\n",
    "params = [{\n",
    "\t'size': '600x300', # max 640x640 pixels\n",
    "\t'location': '46.414382,10.013988',\n",
    "\t'heading': '151.78',\n",
    "\t'pitch': '-0.76',\n",
    "\t'key': 'your_dev_key'\n",
    "}]\n",
    "\n",
    "# Create a results object\n",
    "results = google_streetview.api.results(params)\n",
    "\n",
    "# Download images to directory 'downloads'\n",
    "results.download_links('downloads')"
   ]
  }
 ],
 "metadata": {
  "kernelspec": {
   "display_name": "Python 3 (ipykernel)",
   "language": "python",
   "name": "python3"
  },
  "language_info": {
   "codemirror_mode": {
    "name": "ipython",
    "version": 3
   },
   "file_extension": ".py",
   "mimetype": "text/x-python",
   "name": "python",
   "nbconvert_exporter": "python",
   "pygments_lexer": "ipython3",
   "version": "3.7.10"
  }
 },
 "nbformat": 4,
 "nbformat_minor": 5
}
